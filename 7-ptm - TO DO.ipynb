{
 "cells": [
  {
   "cell_type": "code",
   "execution_count": 10,
   "id": "8a795eee",
   "metadata": {},
   "outputs": [],
   "source": [
    "import ipywidgets as widgets\n",
    "from IPython.display import display\n",
    "from datetime import date, timedelta\n",
    "\n",
    "import pandas_datareader as pdr\n",
    "from pandas_datareader import wb\n",
    "import quandl\n",
    "\n",
    "import yfinance as yf\n",
    "import pandas as pd\n",
    "import numpy as np\n",
    "import matplotlib.pyplot as plt\n",
    "from matplotlib import colors\n",
    "import plotly.express as px\n",
    "import plotly.graph_objects as go\n",
    "\n",
    "import plotly.graph_objects as go\n",
    "from plotly.subplots import make_subplots\n",
    "\n",
    "import requests"
   ]
  },
  {
   "cell_type": "code",
   "execution_count": 17,
   "id": "4d5602fb",
   "metadata": {},
   "outputs": [],
   "source": [
    "from_date = date(1900, 1, 1) \n",
    "to_date = date.today()\n",
    "\n",
    "symbol = 'USA'\n",
    "\n",
    "# Download Quandl\n",
    "# api_key = \"AZDunoHYREw9TgVdsuzS\"\n",
    "# df = pdr.DataReader(symbol, 'quandl', from_date, to_date, api_key=api_key)"
   ]
  },
  {
   "cell_type": "code",
   "execution_count": 16,
   "id": "c93a850c",
   "metadata": {},
   "outputs": [],
   "source": [
    "# quandl.ApiConfig.api_key = 'AZDunoHYREw9TgVdsuzS'\n",
    "# df = quandl.get('ISM-institute-for-supply-management/',start_date=from_date,end_date=to_date)\n",
    "# # dfa"
   ]
  },
  {
   "cell_type": "code",
   "execution_count": null,
   "id": "835667b6",
   "metadata": {},
   "outputs": [],
   "source": []
  }
 ],
 "metadata": {
  "kernelspec": {
   "display_name": "Python 3 (ipykernel)",
   "language": "python",
   "name": "python3"
  },
  "language_info": {
   "codemirror_mode": {
    "name": "ipython",
    "version": 3
   },
   "file_extension": ".py",
   "mimetype": "text/x-python",
   "name": "python",
   "nbconvert_exporter": "python",
   "pygments_lexer": "ipython3",
   "version": "3.7.16"
  }
 },
 "nbformat": 4,
 "nbformat_minor": 5
}
