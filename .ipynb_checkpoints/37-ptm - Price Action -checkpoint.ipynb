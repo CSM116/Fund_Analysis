{
 "cells": [
  {
   "cell_type": "code",
   "execution_count": null,
   "id": "6c97dcc3",
   "metadata": {},
   "outputs": [],
   "source": [
    "import yfinance as yf\n",
    "import pandas as pd\n",
    "import numpy as np\n",
    "\n",
    "import ipywidgets as widgets\n",
    "from IPython.display import display\n",
    "from datetime import date, timedelta\n",
    "\n",
    "import plotly.graph_objects as go\n",
    "from plotly.subplots import make_subplots\n",
    "import plotly.io as pio\n",
    "pio.renderers.default = 'notebook'\n",
    "\n",
    "import ptm_lib as ptm\n",
    "%load_ext autoreload\n",
    "%autoreload 2\n",
    "\n",
    "# import pandas_datareader as pdr\n",
    "# from pandas_datareader import wb\n",
    "# import quandl\n",
    "# import matplotlib.pyplot as plt\n",
    "# from matplotlib import colors"
   ]
  },
  {
   "cell_type": "code",
   "execution_count": null,
   "id": "4a6fe12b",
   "metadata": {},
   "outputs": [],
   "source": [
    "def sma(fig, df, col_name, win_size):  \n",
    "    subset = df.copy()\n",
    "#     fig.add_trace(go.Scatter(x=subset.index, y=subset[col_name]))\n",
    "    subset['rolling_avg'] = subset[col_name].rolling(window=win_size).mean()\n",
    "    fig.add_trace(go.Scatter(x=subset.index, y=subset['rolling_avg'],mode=\"lines\", name=str(win_size)+'-SMA'))\n",
    "\n",
    "    fig.update_layout(title_text='<b>'+'SMA'+'-'+col_name+'<b>', title_x=0.5)\n",
    "    fig.update_layout(margin=dict(l=0, r=0, t=30, b=0))\n",
    "#     fig.show()"
   ]
  },
  {
   "cell_type": "code",
   "execution_count": null,
   "id": "c7ea97a8",
   "metadata": {},
   "outputs": [],
   "source": [
    "from_date = date(1928, 1, 1) \n",
    "today = date.today()\n",
    "tickers = ['AMZN']\n",
    "interval='d'\n",
    "ticker = tickers[0]\n",
    "win_size = 40\n",
    "\n",
    "df = ptm.load_data(tickers, from_date, today, interval)\n",
    "df.rename(columns={'Adj Close':ticker}, inplace=True)\n",
    "# df.fillna(method='bfill')\n",
    "df"
   ]
  },
  {
   "cell_type": "code",
   "execution_count": null,
   "id": "f36c8377",
   "metadata": {},
   "outputs": [],
   "source": [
    "fig = go.Figure()\n",
    "fig.add_trace(go.Scatter(x=df.index, y=df[ticker],name=ticker))\n",
    "sma(fig, df, ticker, 20)\n",
    "sma(fig, df, ticker, 60)\n",
    "sma(fig, df, ticker, 120)\n",
    "sma(fig, df, ticker, 250)\n",
    "fig.show()"
   ]
  },
  {
   "cell_type": "code",
   "execution_count": null,
   "id": "e3812dae",
   "metadata": {},
   "outputs": [],
   "source": [
    "def rsi(fig, df, col_name, win_size=20):  \n",
    "    subset = df.copy()\n",
    "    # Calculate price changes\n",
    "    subset['PriceChange'] = df[col_name].diff()\n",
    "    # Calculate gains and losses\n",
    "    subset['Gain'] = subset['PriceChange'].apply(lambda x: x if x > 0 else 0)\n",
    "    subset['Loss'] = subset['PriceChange'].apply(lambda x: -x if x < 0 else 0)\n",
    "    # Calculate average gains and losses\n",
    "    subset['AvgGain'] = subset['Gain'].rolling(window=win_size, min_periods=1).mean()\n",
    "    subset['AvgLoss'] = subset['Loss'].rolling(window=win_size, min_periods=1).mean()\n",
    "    # Calculate RS and RSI\n",
    "    subset['RS'] = subset['AvgGain'] / subset['AvgLoss']\n",
    "    subset['RSI'] = 100 - (100 / (1 + subset['RS']))\n",
    "    \n",
    "    fig.add_trace(go.Scatter(x=subset.index, y=subset['RSI'],mode=\"lines\", name=str(win_size)+'-RSI'))\n",
    "\n",
    "    fig.update_layout(title_text='<b>'+'RSI'+'-'+col_name+'<b>', title_x=0.5)\n",
    "    fig.update_layout(margin=dict(l=0, r=0, t=30, b=0))    \n",
    "    \n",
    "#     return subset[['RSI']]\n"
   ]
  },
  {
   "cell_type": "code",
   "execution_count": null,
   "id": "b7501a75",
   "metadata": {},
   "outputs": [],
   "source": [
    "fig = go.Figure()\n",
    "# fig.add_trace(go.Scatter(x=df.index, y=df[ticker],name=ticker))\n",
    "rsi(fig, df, ticker, 20)\n",
    "fig.show()"
   ]
  }
 ],
 "metadata": {
  "kernelspec": {
   "display_name": "Python 3 (ipykernel)",
   "language": "python",
   "name": "python3"
  },
  "language_info": {
   "codemirror_mode": {
    "name": "ipython",
    "version": 3
   },
   "file_extension": ".py",
   "mimetype": "text/x-python",
   "name": "python",
   "nbconvert_exporter": "python",
   "pygments_lexer": "ipython3",
   "version": "3.10.16"
  }
 },
 "nbformat": 4,
 "nbformat_minor": 5
}
