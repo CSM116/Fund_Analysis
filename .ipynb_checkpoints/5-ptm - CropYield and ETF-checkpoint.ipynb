{
 "cells": [
  {
   "cell_type": "code",
   "execution_count": null,
   "id": "7f0c6f16",
   "metadata": {},
   "outputs": [],
   "source": [
    "import yfinance as yf\n",
    "import pandas as pd\n",
    "import numpy as np\n",
    "\n",
    "import ipywidgets as widgets\n",
    "from IPython.display import display\n",
    "from datetime import date, timedelta\n",
    "\n",
    "import plotly.graph_objects as go\n",
    "from plotly.subplots import make_subplots\n",
    "import plotly.io as pio\n",
    "pio.renderers.default = 'notebook'\n",
    "\n",
    "import ptm_lib as ptm\n",
    "%load_ext autoreload\n",
    "%autoreload 2\n",
    "\n",
    "# import pandas_datareader as pdr\n",
    "# from pandas_datareader import wb\n",
    "# import quandl\n",
    "# import matplotlib.pyplot as plt\n",
    "# from matplotlib import colors"
   ]
  },
  {
   "cell_type": "code",
   "execution_count": null,
   "id": "6d09684f",
   "metadata": {},
   "outputs": [],
   "source": [
    "from_date = date(1928, 1, 1) \n",
    "today = date.today()\n",
    "# ETFs Bonds\n",
    "tickers = ['TLT','SHY','LQD','JNK','HYG']\n",
    "file = 'ETFS'\n",
    "frequency = 'd' \n",
    "\n",
    "data = ptm.loadNupdate(tickers, from_date, today, frequency, file)\n",
    "   \n",
    "ptm.plot_select(data, tickers)\n",
    "\n",
    "ptm.spread_analysis(data, tickers)"
   ]
  },
  {
   "cell_type": "code",
   "execution_count": null,
   "id": "92695064",
   "metadata": {},
   "outputs": [],
   "source": [
    "from_date = date(1928, 1, 1) \n",
    "today = date.today()\n",
    "# INDEXES\n",
    "tickers = ['BAMLC0A1CAAAEY','BAMLC0A4CBBBEY','BAMLH0A3HYCEY','DGS10']\n",
    "file = 'INDEXES'\n",
    "frequency = 'd' \n",
    "\n",
    "data = ptm.loadNupdate(tickers, from_date, today, frequency, file)\n",
    "\n",
    "ptm.plot_select(data, tickers)\n",
    "\n",
    "ptm.spread_analysis(data, tickers)"
   ]
  }
 ],
 "metadata": {
  "kernelspec": {
   "display_name": "Python 3 (ipykernel)",
   "language": "python",
   "name": "python3"
  },
  "language_info": {
   "codemirror_mode": {
    "name": "ipython",
    "version": 3
   },
   "file_extension": ".py",
   "mimetype": "text/x-python",
   "name": "python",
   "nbconvert_exporter": "python",
   "pygments_lexer": "ipython3",
   "version": "3.10.16"
  }
 },
 "nbformat": 4,
 "nbformat_minor": 5
}
