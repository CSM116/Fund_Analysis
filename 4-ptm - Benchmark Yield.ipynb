{
 "cells": [
  {
   "cell_type": "code",
   "execution_count": 1,
   "id": "220052f7",
   "metadata": {},
   "outputs": [],
   "source": [
    "import yfinance as yf\n",
    "import pandas as pd\n",
    "import numpy as np\n",
    "\n",
    "import ipywidgets as widgets\n",
    "from IPython.display import display\n",
    "from datetime import date, timedelta\n",
    "\n",
    "import plotly.graph_objects as go\n",
    "from plotly.subplots import make_subplots\n",
    "import plotly.io as pio\n",
    "pio.renderers.default = 'notebook'\n",
    "\n",
    "import ptm_lib as ptm\n",
    "%load_ext autoreload\n",
    "%autoreload 2\n",
    "\n",
    "# import pandas_datareader as pdr\n",
    "# from pandas_datareader import wb\n",
    "# import quandl\n",
    "# import matplotlib.pyplot as plt\n",
    "# from matplotlib import colors"
   ]
  },
  {
   "cell_type": "code",
   "execution_count": 2,
   "id": "20ceac82",
   "metadata": {},
   "outputs": [],
   "source": [
    "def yield_curve(dataset, tips):\n",
    "    data = dataset\n",
    "    date_slider1 = widgets.SelectionSlider(\n",
    "        options=data.index,\n",
    "        description='Blue Select:',\n",
    "        continuous_update=False,\n",
    "        layout={'width': '600px'}\n",
    "    )\n",
    "    date_slider2 = widgets.SelectionSlider(\n",
    "        options=data.index,\n",
    "        description='Orange Select:',\n",
    "        continuous_update=False,\n",
    "        layout={'width': '600px'}\n",
    "    )\n",
    "    def yield_curve_helper(day1, day2, tips):\n",
    "        if tips=='TIPS':        \n",
    "            x_data = ['FedFund','1mo','3mo','6mo','1yr','2yr','3yr','5yr','7yr','10yr','20yr']\n",
    "            y_data1 = data.loc[day1][:len(x_data)]\n",
    "            y_data2 = data.loc[day2][:len(x_data)]\n",
    "        else:\n",
    "            x_data = ['5yr-TIPS','7yr-TIPS','10yr-TIPS','20yr-TIPS','30yr-TIPS']\n",
    "            y_data1 = data.loc[day1][-len(x_data):]\n",
    "            y_data2 = data.loc[day2][-len(x_data):]\n",
    "\n",
    "        # PLOT YIELD CURVE\n",
    "        # Create traces for each line\n",
    "        trace1 = go.Scatter(\n",
    "            x=x_data,\n",
    "            y=y_data1,\n",
    "            mode='lines+markers+text',\n",
    "            marker=dict(\n",
    "                size=10,\n",
    "                line=dict(\n",
    "                    color='black',  # Border color of markers\n",
    "                    width=1         # Border width of markers\n",
    "                    ) \n",
    "            ),\n",
    "            name=str(day1.date()),\n",
    "        )\n",
    "\n",
    "        trace2 = go.Scatter(\n",
    "            x=x_data, \n",
    "            y=y_data2, \n",
    "            mode='lines+markers+text',\n",
    "            marker=dict(\n",
    "                size=10,  \n",
    "                line=dict(\n",
    "                    color='black',  # Border color of markers\n",
    "                    width=1         # Border width of markers\n",
    "                ) \n",
    "            ),\n",
    "            name=str(day2.date()),\n",
    "        )\n",
    "\n",
    "        # Create annotations for text labels\n",
    "        annotations1 = [dict(\n",
    "            x=x_val,\n",
    "            y=y_val,\n",
    "            xref='x',\n",
    "            yref='y',\n",
    "            text=str(y_val),\n",
    "            showarrow=False,\n",
    "            font=dict(\n",
    "                family=\"Arial\",\n",
    "                size=12,\n",
    "                color=\"white\"\n",
    "            ),\n",
    "            bgcolor='rgba(31, 119, 180, 0.6)',\n",
    "            bordercolor='rgba(31, 119, 180, 0.8)',\n",
    "            borderwidth=1,\n",
    "            borderpad=4,\n",
    "            xshift=-17,\n",
    "            yshift=17\n",
    "        ) for x_val, y_val in zip(x_data, y_data1)]\n",
    "\n",
    "        annotations2 = [dict(\n",
    "            x=x_val,\n",
    "            y=y_val,\n",
    "            xref='x',\n",
    "            yref='y',\n",
    "            text=str(y_val),\n",
    "            showarrow=False,\n",
    "            font=dict(\n",
    "                family=\"Arial\",\n",
    "                size=12,\n",
    "                color=\"white\"\n",
    "            ),\n",
    "            bgcolor='rgba(255, 127, 14, 0.6)',\n",
    "            bordercolor='rgba(255, 127, 14, 0.8)',\n",
    "            borderwidth=1,\n",
    "            borderpad=4,\n",
    "            xshift=17,\n",
    "            yshift=17\n",
    "        ) for x_val, y_val in zip(x_data, y_data2)]\n",
    "\n",
    "        # Create the layout\n",
    "        layout = go.Layout(\n",
    "            title=dict(text='<b>US Yield Curve - Comparative Analysis</b>', x=0.5),  # Title in the middle and bold\n",
    "            yaxis=dict(title='<b>Percent</b>'),\n",
    "            legend=dict(\n",
    "                orientation='v',  \n",
    "                x=-0.15,\n",
    "                y=-0.3            \n",
    "            ),\n",
    "            annotations=annotations1 + annotations2\n",
    "        )\n",
    "\n",
    "        fig = go.Figure(data=[trace1, trace2], layout=layout) # Create the figure\n",
    "        fig.show()                                            # Show the plot\n",
    "        \n",
    "    controls = widgets.interactive(yield_curve_helper, day1=date_slider1, day2=date_slider2, tips=tips)\n",
    "    display(controls)\n"
   ]
  },
  {
   "cell_type": "code",
   "execution_count": 3,
   "id": "89533dcd",
   "metadata": {},
   "outputs": [
    {
     "name": "stdout",
     "output_type": "stream",
     "text": [
      "Next Timestamp:  2024-06-26 00:00:00\n",
      "Today Timestamp: 2024-06-26 00:00:00\n"
     ]
    },
    {
     "data": {
      "application/vnd.jupyter.widget-view+json": {
       "model_id": "5736dcc574644de9b20aea36fb6c5aac",
       "version_major": 2,
       "version_minor": 0
      },
      "text/plain": [
       "interactive(children=(SelectionSlider(continuous_update=False, description='Blue Select:', layout=Layout(width…"
      ]
     },
     "metadata": {},
     "output_type": "display_data"
    },
    {
     "data": {
      "application/vnd.jupyter.widget-view+json": {
       "model_id": "6eebb25c78bc4503ad86ed972fe99ba7",
       "version_major": 2,
       "version_minor": 0
      },
      "text/plain": [
       "interactive(children=(Dropdown(description='value1', options=('DFF', 'DGS1MO', 'DGS3MO', 'DGS6MO', 'DGS1', 'DG…"
      ]
     },
     "metadata": {},
     "output_type": "display_data"
    }
   ],
   "source": [
    "from_date = date(1928, 1, 1) \n",
    "today = date.today()\n",
    "# Fed and BenchMark Yields\n",
    "tickers = ['DFF', 'DGS1MO', 'DGS3MO','DGS6MO','DGS1','DGS2','DGS3','DGS5','DGS7','DGS10','DGS20','DGS30','DFII5','DFII7','DFII10','DFII20','DFII30']\n",
    "file = 'BENCHMARKS'\n",
    "frequency = 'wesu&aggregation_method=eop' \n",
    "\n",
    "data = ptm.loadNupdate(tickers, from_date, today, frequency, file)\n",
    "tips = ['TIPS', 'no-TIPS']\n",
    "yield_curve(data, tips)\n",
    "ptm.spread_analysis(data, tickers)"
   ]
  }
 ],
 "metadata": {
  "kernelspec": {
   "display_name": "Python 3 (ipykernel)",
   "language": "python",
   "name": "python3"
  },
  "language_info": {
   "codemirror_mode": {
    "name": "ipython",
    "version": 3
   },
   "file_extension": ".py",
   "mimetype": "text/x-python",
   "name": "python",
   "nbconvert_exporter": "python",
   "pygments_lexer": "ipython3",
   "version": "3.10.16"
  }
 },
 "nbformat": 4,
 "nbformat_minor": 5
}
