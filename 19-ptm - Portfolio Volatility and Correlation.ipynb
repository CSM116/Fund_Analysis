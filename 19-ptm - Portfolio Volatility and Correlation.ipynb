{
 "cells": [
  {
   "cell_type": "code",
   "execution_count": 1,
   "id": "ac704895",
   "metadata": {},
   "outputs": [],
   "source": [
    "import ipywidgets as widgets\n",
    "from IPython.display import display\n",
    "from datetime import date\n",
    "\n",
    "import yfinance as yf\n",
    "import pandas as pd\n",
    "import numpy as np\n",
    "import matplotlib.pyplot as plt\n",
    "from matplotlib import colors\n"
   ]
  },
  {
   "cell_type": "code",
   "execution_count": 2,
   "id": "946f66d3",
   "metadata": {},
   "outputs": [
    {
     "name": "stderr",
     "output_type": "stream",
     "text": [
      "[*********************100%%**********************]  1 of 1 completed\n",
      "[*********************100%%**********************]  1 of 1 completed\n"
     ]
    },
    {
     "name": "stdout",
     "output_type": "stream",
     "text": [
      "2004-12-13 00:00:00\n"
     ]
    },
    {
     "name": "stderr",
     "output_type": "stream",
     "text": [
      "[*********************100%%**********************]  1 of 1 completed\n",
      "[*********************100%%**********************]  1 of 1 completed\n"
     ]
    },
    {
     "name": "stdout",
     "output_type": "stream",
     "text": [
      "2004-12-13 00:00:00\n",
      "2012-04-16 00:00:00\n"
     ]
    },
    {
     "name": "stderr",
     "output_type": "stream",
     "text": [
      "[*********************100%%**********************]  1 of 1 completed\n",
      "[*********************100%%**********************]  1 of 1 completed\n"
     ]
    },
    {
     "name": "stdout",
     "output_type": "stream",
     "text": [
      "2012-04-16 00:00:00\n",
      "2012-04-16 00:00:00\n"
     ]
    },
    {
     "name": "stderr",
     "output_type": "stream",
     "text": [
      "[*********************100%%**********************]  1 of 1 completed\n",
      "[*********************100%%**********************]  1 of 1 completed"
     ]
    },
    {
     "name": "stdout",
     "output_type": "stream",
     "text": [
      "2012-04-16 00:00:00\n",
      "2012-04-16 00:00:00\n"
     ]
    },
    {
     "name": "stderr",
     "output_type": "stream",
     "text": [
      "\n",
      "[*********************100%%**********************]  1 of 1 completed\n",
      "[*********************100%%**********************]  1 of 1 completed"
     ]
    },
    {
     "name": "stdout",
     "output_type": "stream",
     "text": [
      "2012-04-16 00:00:00\n",
      "2015-06-08 00:00:00\n",
      "                  LVS        BBY        LEN       SPLK       VTRS        XPO  \\\n",
      "Date                                                                           \n",
      "2015-06-08  39.928192  25.615211  43.529350  68.919998  65.906036  16.414228   \n",
      "2015-06-15  40.554939  26.353710  44.602222  73.190002  64.045998  16.441896   \n",
      "2015-06-22  39.617897  25.614756  47.664959  70.379997  61.756718  15.819359   \n",
      "2015-06-29  41.645210  25.260345  46.949707  69.720001  62.704628  15.387042   \n",
      "2015-07-06  42.434486  25.584587  48.875370  71.839996  63.688297  15.338622   \n",
      "\n",
      "                  MOS       OLED       TTEC       WING  \n",
      "Date                                                    \n",
      "2015-06-08  38.410629  51.923996  22.093801  21.950710  \n",
      "2015-06-15  38.669334  52.562992  22.984276  21.053736  \n",
      "2015-06-22  40.144016  50.955803  22.992676  20.271574  \n",
      "2015-06-29  40.230251  48.912930  22.681845  20.465319  \n",
      "2015-07-06  38.841816  46.492451  22.891865  24.670328  \n",
      "      net-allocation  shares  weighting  long/short\n",
      "LVS           -10000     250       -0.5          -1\n",
      "BBY           -10000     390       -0.5          -1\n",
      "LEN           -10000     229       -0.5          -1\n",
      "SPLK          -10000     145       -0.5          -1\n",
      "VTRS           10000     151        0.5           1\n",
      "XPO            10000     609        0.5           1\n",
      "MOS            10000     260        0.5           1\n",
      "OLED           10000     192        0.5           1\n",
      "TTEC           10000     452        0.5           1\n",
      "WING           10000     455        0.5           1\n",
      "\n",
      "Covariance Matrix:\n",
      "[[ 0.00238977  0.0008688   0.00092119  0.00102007 -0.00071523 -0.00158081\n",
      "  -0.00124489 -0.000948   -0.00085432 -0.00072868]\n",
      " [ 0.0008688   0.00269578  0.00122398  0.00127735 -0.00060556 -0.00160763\n",
      "  -0.00106242 -0.00104777 -0.00092109 -0.0012936 ]\n",
      " [ 0.00092119  0.00122398  0.00270042  0.00128269 -0.00073565 -0.00166809\n",
      "  -0.00106357 -0.00124928 -0.00111219 -0.00127447]\n",
      " [ 0.00102007  0.00127735  0.00128269  0.00371672 -0.0009775  -0.00149356\n",
      "  -0.00094604 -0.00147603 -0.00088217 -0.00119562]\n",
      " [-0.00071523 -0.00060556 -0.00073565 -0.0009775   0.00290138  0.00136004\n",
      "   0.0012764   0.00090019  0.00086543  0.00046469]\n",
      " [-0.00158081 -0.00160763 -0.00166809 -0.00149356  0.00136004  0.00504347\n",
      "   0.0020301   0.00203882  0.00134783  0.00156631]\n",
      " [-0.00124489 -0.00106242 -0.00106357 -0.00094604  0.0012764   0.0020301\n",
      "   0.00375715  0.00098217  0.0013074   0.00087511]\n",
      " [-0.000948   -0.00104777 -0.00124928 -0.00147603  0.00090019  0.00203882\n",
      "   0.00098217  0.00448637  0.00095963  0.00141432]\n",
      " [-0.00085432 -0.00092109 -0.00111219 -0.00088217  0.00086543  0.00134783\n",
      "   0.0013074   0.00095963  0.0024019   0.00106524]\n",
      " [-0.00072868 -0.0012936  -0.00127447 -0.00119562  0.00046469  0.00156631\n",
      "   0.00087511  0.00141432  0.00106524  0.00377815]]\n",
      "\n",
      "Correlation Matrix:\n",
      "[[ 1.          0.34229306  0.36262405  0.34227293 -0.27162407 -0.45534121\n",
      "  -0.41545356 -0.2895239  -0.35658598 -0.24250531]\n",
      " [ 0.34229306  1.          0.45364434  0.40354217 -0.21652762 -0.4359925\n",
      "  -0.33383135 -0.30128289 -0.36197683 -0.4053398 ]\n",
      " [ 0.36262405  0.45364434  1.          0.40488077 -0.26281568 -0.45200076\n",
      "  -0.33390283 -0.3589189  -0.43670441 -0.39900141]\n",
      " [ 0.34227293  0.40354217  0.40488077  1.         -0.29766851 -0.34496852\n",
      "  -0.25316423 -0.36146619 -0.29525357 -0.31905984]\n",
      " [-0.27162407 -0.21652762 -0.26281568 -0.29766851  1.          0.35553773\n",
      "   0.38659484  0.24950788  0.32783416  0.14035281]\n",
      " [-0.45534121 -0.4359925  -0.45200076 -0.34496852  0.35553773  1.\n",
      "   0.4663634   0.42861372  0.38725203  0.35881804]\n",
      " [-0.41545356 -0.33383135 -0.33390283 -0.25316423  0.38659484  0.4663634\n",
      "   1.          0.23922569  0.43521391  0.2322693 ]\n",
      " [-0.2895239  -0.30128289 -0.3589189  -0.36146619  0.24950788  0.42861372\n",
      "   0.23922569  1.          0.2923344   0.34352661]\n",
      " [-0.35658598 -0.36197683 -0.43670441 -0.29525357  0.32783416  0.38725203\n",
      "   0.43521391  0.2923344   1.          0.35361561]\n",
      " [-0.24250531 -0.4053398  -0.39900141 -0.31905984  0.14035281  0.35881804\n",
      "   0.2322693   0.34352661  0.35361561  1.        ]]\n",
      "\n",
      "Row-wise averages:\n",
      "[0.0016156008100925352, 0.014452857107671274, -0.0022194824860842953, 0.027911500464408358, 0.14111915344758033, 0.13082819222998543, 0.14233151671649963, 0.12420164164522478, 0.13457293167066847, 0.10626760133013027]\n",
      "\n",
      "Portfolio correlation:\n",
      "0.08210815129361768\n",
      "\n",
      "Portfolio variance:\n",
      "0.017166880279482766\n",
      "\n",
      "Portfolio standard dev.:\n",
      "0.1310224418925352\n",
      "\n",
      "Portfolio standard dev. (Anual):\n",
      "0.9448162649600734\n",
      "\n",
      "Scenario Analysis:\n",
      "[[0.1        1.         1.5        2.        ]\n",
      " [0.09448163 0.94481626 1.4172244  1.88963253]]\n"
     ]
    },
    {
     "name": "stderr",
     "output_type": "stream",
     "text": [
      "\n"
     ]
    }
   ],
   "source": [
    "from_date = date(1900, 1, 1) \n",
    "to_date = date.today()\n",
    "to_date = date(2021, 9, 7) \n",
    "\n",
    "portfolio_Vol = pd.DataFrame()\n",
    "\n",
    "symbols = ['LVS','BBY','LEN','SPLK','VTRS','XPO','MOS','OLED','TTEC','WING']\n",
    "# symbols = ['THO','PZZA']\n",
    "\n",
    "# Build Portfolio prices, find oldest common date and remove rows with no data.           \n",
    "for ind,symb in enumerate(symbols):\n",
    "    tmp = yf.download(symb, from_date, to_date, interval=\"1wk\")    \n",
    "    tmp = tmp.loc[:, \"Adj Close\":\"Adj Close\"]              # Remove columns except Adj Close    \n",
    "    tmp.rename(columns={\"Adj Close\":symb}, inplace=True)    # Rename columns\n",
    "    \n",
    "    # Sort values in descending order, NA values at the bottom\n",
    "    tmp.sort_values(by='Date', ascending=True, na_position='last',inplace=True)     \n",
    "    \n",
    "    if ind==0:\n",
    "        portfolio_Vol = tmp\n",
    "        continue\n",
    "    \n",
    "    closest_date = max(tmp.index[0],portfolio_Vol.index[0])   # Determine closest date - the oldest date for which there is information for both Stocks\n",
    "    tmp = tmp.loc[tmp.index >= closest_date]                  # Remove rows of data earlier than closest date\n",
    "    portfolio_Vol = portfolio_Vol.loc[portfolio_Vol.index >= closest_date]\n",
    "    portfolio_Vol = portfolio_Vol.join(tmp)                   # Merge dataframes now that they have the same indexes\n",
    "\n",
    "# RESAMPLE to specific day if needed\n",
    "# portfolio_Vol = portfolio_Vol.resample(\"W-THU\").first()\n",
    "print(portfolio_Vol.head())\n",
    "# print(portfolio_Vol.tail())\n",
    "\n",
    "# Portfolio Summary by Shares and initial capital\n",
    "portf_Vol_summary = pd.DataFrame()\n",
    "portf_Vol_summary.index = symbols\n",
    "portf_Vol_summary['net-allocation'] = [-10000,-10000,-10000,-10000,10000,10000,10000,10000,10000,10000]\n",
    "portf_Vol_summary['shares']=abs(portf_Vol_summary['net-allocation'])//portfolio_Vol.iloc[0]\n",
    "portf_Vol_summary['shares'] = portf_Vol_summary['shares'].astype(int)\n",
    "portf_Vol_summary['weighting'] = portf_Vol_summary['net-allocation']/sum(portf_Vol_summary['net-allocation'])\n",
    "portf_Vol_summary['long/short'] = [-1,-1,-1,-1,1,1,1,1,1,1]\n",
    "print(portf_Vol_summary.head(len(symbols)))\n",
    "\n",
    "# Calculate and Replace columns of prices in portfolio with Returns\n",
    "for col in portfolio_Vol.columns:\n",
    "    portfolio_Vol[col] = (portfolio_Vol[col]/portfolio_Vol[col].shift(1))-1\n",
    "\n",
    "# Remove first NaN row\n",
    "portfolio_Vol = portfolio_Vol.iloc[1:]\n",
    "portfolio_Vol\n",
    "\n",
    "# Negate returns of assets which are shorted\n",
    "for i in portfolio_Vol:\n",
    "    portfolio_Vol[i]=portfolio_Vol[i]*portf_Vol_summary['long/short'].loc[i]\n",
    "# Portfolio Covariance Matrix\n",
    "covariance_matrix = np.cov(portfolio_Vol.values, rowvar=False)\n",
    "print(\"\\nCovariance Matrix:\")\n",
    "print(covariance_matrix)\n",
    "\n",
    "# Calculate the standard deviations of each asset\n",
    "std_deviations = np.sqrt(np.diag(covariance_matrix))\n",
    "\n",
    "# Calculate the correlation matrix\n",
    "corr_matrix = covariance_matrix / np.outer(std_deviations, std_deviations)\n",
    "print(\"\\nCorrelation Matrix:\")\n",
    "print(corr_matrix)\n",
    "\n",
    "#Average correlation per asset\n",
    "port_av_corr = []\n",
    "for row in corr_matrix:\n",
    "    port_av_corr.append(np.mean(row))\n",
    "print(\"\\nRow-wise averages:\")\n",
    "print(port_av_corr)\n",
    "\n",
    "# Average portfolio correlation\n",
    "print(\"\\nPortfolio correlation:\")\n",
    "print(np.mean(np.array(port_av_corr)))\n",
    "\n",
    "# Portfolio Variance\n",
    "portf_variance=0\n",
    "for row,i in enumerate(portf_Vol_summary['weighting']):    \n",
    "    for col,j in enumerate(portf_Vol_summary['weighting']):\n",
    "        val = i*j*covariance_matrix[row][col]\n",
    "        portf_variance = portf_variance + val\n",
    "portf_variance = portf_variance/2\n",
    "\n",
    "print(\"\\nPortfolio variance:\")\n",
    "print(portf_variance)\n",
    "print(\"\\nPortfolio standard dev.:\")\n",
    "portf_std = np.sqrt(portf_variance)\n",
    "print(portf_std)\n",
    "print(\"\\nPortfolio standard dev. (Anual):\")\n",
    "portf_std_annual = np.sqrt(portf_variance)*np.sqrt(52)\n",
    "print(portf_std_annual)\n",
    "\n",
    "print(\"\\nScenario Analysis:\")\n",
    "gross_sharpe = np.array([0.1,1,1.5,2])\n",
    "scenario = np.array([gross_sharpe,gross_sharpe*portf_std_annual])\n",
    "print(scenario)"
   ]
  },
  {
   "cell_type": "code",
   "execution_count": null,
   "id": "de60ccae",
   "metadata": {},
   "outputs": [],
   "source": []
  }
 ],
 "metadata": {
  "kernelspec": {
   "display_name": "Python 3 (ipykernel)",
   "language": "python",
   "name": "python3"
  },
  "language_info": {
   "codemirror_mode": {
    "name": "ipython",
    "version": 3
   },
   "file_extension": ".py",
   "mimetype": "text/x-python",
   "name": "python",
   "nbconvert_exporter": "python",
   "pygments_lexer": "ipython3",
   "version": "3.7.16"
  }
 },
 "nbformat": 4,
 "nbformat_minor": 5
}
